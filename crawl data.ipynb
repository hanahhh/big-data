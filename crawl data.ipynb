{
 "cells": [
  {
   "cell_type": "code",
   "execution_count": 6,
   "id": "16c477c2",
   "metadata": {},
   "outputs": [
    {
     "name": "stderr",
     "output_type": "stream",
     "text": [
      "2022-11-17 21:53:20,780 : INFO : data E1VFVN30 from 2021-02-01 to 2021-04-02 have already cloned!\n",
      "2022-11-17 21:53:21,222 : INFO : data VND from 2021-02-01 to 2021-04-02 have already cloned!\n"
     ]
    },
    {
     "name": "stdout",
     "output_type": "stream",
     "text": [
      "Attributes     high             low            open           close         \\\n",
      "Symbols    E1VFVN30    VND E1VFVN30    VND E1VFVN30    VND E1VFVN30    VND   \n",
      "date                                                                         \n",
      "2021-02-01    18.00  24.00    17.31  21.85    17.50  23.40    17.31  21.90   \n",
      "2021-02-02    18.24  23.20    17.29  21.30    17.30  21.90    18.20  23.00   \n",
      "2021-02-03    18.85  24.60    18.25  23.50    18.25  23.70    18.85  24.60   \n",
      "2021-02-04    19.00  25.80    18.58  24.60    18.88  25.00    18.75  25.50   \n",
      "2021-02-05    19.49  26.50    18.51  25.45    18.51  25.60    19.49  26.35   \n",
      "2021-02-08      NaN  27.80      NaN  24.55      NaN  26.00      NaN  26.00   \n",
      "2021-02-09      NaN  27.30      NaN  25.60      NaN  27.10      NaN  27.10   \n",
      "2021-02-17    19.71  28.30    19.10  27.45    19.27  27.80    19.60  28.00   \n",
      "2021-02-18    19.85  28.10    18.60  27.40    19.80  28.00    19.76  27.50   \n",
      "2021-02-19    19.95  28.00    19.49  27.00    19.49  27.00    19.85  27.60   \n",
      "2021-02-22    20.00  27.95    19.70  27.15    19.85  27.70    19.81  27.35   \n",
      "2021-02-23    20.00  28.00    19.70  26.90    19.80  27.35    19.90  27.55   \n",
      "2021-02-24    20.00  28.45    19.48  27.10    20.00  28.20    19.55  27.80   \n",
      "2021-02-25    19.85  28.00    19.44  27.40    19.85  28.00    19.72  27.85   \n",
      "2021-02-26    19.72  27.80    19.40  27.10    19.69  27.20    19.70  27.70   \n",
      "2021-03-01    20.03  29.20    19.72  27.70    19.72  28.10    20.03  29.20   \n",
      "2021-03-02    20.21  29.85    19.97  28.60    20.04  29.80    20.03  29.00   \n",
      "2021-03-03    20.14  29.20    19.92  28.60    20.03  28.80    20.06  28.85   \n",
      "2021-03-04    20.20  28.90    19.57  27.00    20.20  28.90    20.10  27.70   \n",
      "2021-03-05    19.74  27.70    19.00  26.80    19.20  27.45    19.74  27.50   \n",
      "2021-03-08    19.80  28.95    19.50  28.20    19.80  28.50    19.66  28.70   \n",
      "2021-03-09    19.65  28.55    19.33  27.50    19.45  28.40    19.65  28.25   \n",
      "2021-03-10    19.72  28.70    19.37  27.75    19.37  28.15    19.72  28.70   \n",
      "2021-03-11    20.00  30.40    19.72  28.85    19.72  29.20    20.00  29.80   \n",
      "2021-03-12    20.04  29.90    19.90  28.95    20.00  29.80    19.92  29.40   \n",
      "2021-03-15    20.10  29.45    19.94  29.00    20.00  29.40    20.00  29.10   \n",
      "2021-03-16    20.00  29.10    19.80  28.05    20.00  29.10    19.99  28.50   \n",
      "2021-03-17    20.03  29.00    19.91  28.25    20.00  28.45    20.03  28.75   \n",
      "2021-03-18    20.28  29.80    20.10  29.05    20.10  29.20    20.28  29.80   \n",
      "2021-03-19    20.30  30.85    20.20  30.00    20.30  30.10    20.20  30.75   \n",
      "2021-03-22    20.24  30.85    20.05  30.20    20.20  30.80    20.22  30.40   \n",
      "2021-03-23    20.22  30.15    19.93  29.15    20.22  30.15    19.95  29.55   \n",
      "2021-03-24    19.95  29.25    19.57  28.00    19.95  28.60    19.70  28.90   \n",
      "2021-03-25    19.72  29.20    19.49  28.20    19.70  28.90    19.60  28.90   \n",
      "2021-03-26    19.65  28.90    19.21  27.40    19.50  28.35    19.65  28.75   \n",
      "2021-03-29    19.89  29.20    19.63  28.80    19.70  29.00    19.89  29.10   \n",
      "2021-03-30    20.00  30.25    19.75  29.05    19.98  29.40    20.00  30.20   \n",
      "2021-03-31    20.15    NaN    20.00    NaN    20.00    NaN    20.10    NaN   \n",
      "2021-04-01    20.60    NaN    20.10    NaN    20.10    NaN    20.60    NaN   \n",
      "2021-04-02    20.98    NaN    20.73    NaN    20.98    NaN    20.84    NaN   \n",
      "\n",
      "Attributes   adjust            volume              \n",
      "Symbols    E1VFVN30   VND    E1VFVN30         VND  \n",
      "date                                               \n",
      "2021-02-01    17.31  5.37  14827800.0   3785000.0  \n",
      "2021-02-02    18.20  5.64   2552690.0   4189300.0  \n",
      "2021-02-03    18.85  6.03   1988800.0   3510000.0  \n",
      "2021-02-04    18.75  6.26   7513200.0   3733400.0  \n",
      "2021-02-05    19.49  6.46   2559200.0   2666100.0  \n",
      "2021-02-08      NaN  6.38         NaN   5741200.0  \n",
      "2021-02-09      NaN  6.65         NaN   3529800.0  \n",
      "2021-02-17    19.60  6.87   5278000.0   4231700.0  \n",
      "2021-02-18    19.76  6.75   4503300.0   4212200.0  \n",
      "2021-02-19    19.85  6.77   5842800.0   3782900.0  \n",
      "2021-02-22    19.81  6.71   3238100.0   3538900.0  \n",
      "2021-02-23    19.90  6.76   3494400.0   6547200.0  \n",
      "2021-02-24    19.55  6.82   3004200.0   4958600.0  \n",
      "2021-02-25    19.72  6.83    222600.0   2660300.0  \n",
      "2021-02-26    19.70  6.80   1775100.0   3021600.0  \n",
      "2021-03-01    20.03  7.16    385100.0   6744300.0  \n",
      "2021-03-02    20.03  7.11   2440400.0   5250100.0  \n",
      "2021-03-03    20.06  7.08   4988700.0   3461900.0  \n",
      "2021-03-04    20.10  6.80   3802500.0   5102600.0  \n",
      "2021-03-05    19.74  6.75   5781600.0   4979400.0  \n",
      "2021-03-08    19.66  7.04    314100.0   5799400.0  \n",
      "2021-03-09    19.65  6.93   4546200.0   2815400.0  \n",
      "2021-03-10    19.72  7.04     65700.0   5635500.0  \n",
      "2021-03-11    20.00  7.31    880700.0  11731900.0  \n",
      "2021-03-12    19.92  7.21    705800.0   3838000.0  \n",
      "2021-03-15    20.00  7.14   3584100.0   6037800.0  \n",
      "2021-03-16    19.99  6.99   2904600.0  10038800.0  \n",
      "2021-03-17    20.03  7.05   1054900.0   3153300.0  \n",
      "2021-03-18    20.28  7.31  15228600.0   6202500.0  \n",
      "2021-03-19    20.20  7.54   4140200.0  10393100.0  \n",
      "2021-03-22    20.22  7.46   1350300.0   4491500.0  \n",
      "2021-03-23    19.95  7.25   2157300.0   6802100.0  \n",
      "2021-03-24    19.70  7.09   1203100.0   7029400.0  \n",
      "2021-03-25    19.60  7.09    796400.0   3836500.0  \n",
      "2021-03-26    19.65  7.05   6072400.0   5036800.0  \n",
      "2021-03-29    19.89  7.14   5245400.0   3734600.0  \n",
      "2021-03-30    20.00  7.41   1060500.0   7527600.0  \n",
      "2021-03-31    20.10   NaN   1394800.0         NaN  \n",
      "2021-04-01    20.60   NaN   1835200.0         NaN  \n",
      "2021-04-02    20.84   NaN   1146300.0         NaN  \n"
     ]
    }
   ],
   "source": [
    "import data.DataLoader as dt\n",
    "loader = dt.DataLoader(['E1VFVN30', 'VND'], '2021-02-01','2021-04-02', data_source='CAFE', minimal=True)\n",
    "data = loader.download()\n",
    "print(data)"
   ]
  },
  {
   "cell_type": "code",
   "execution_count": 6,
   "id": "81d5e796",
   "metadata": {},
   "outputs": [
    {
     "name": "stdout",
     "output_type": "stream",
     "text": [
      "Collecting webdriver_manager\n",
      "  Downloading webdriver_manager-3.8.4-py2.py3-none-any.whl (27 kB)\n",
      "Requirement already satisfied: tqdm in c:\\users\\hoang\\anaconda3\\lib\\site-packages (from webdriver_manager) (4.64.1)\n",
      "Requirement already satisfied: requests in c:\\users\\hoang\\anaconda3\\lib\\site-packages (from webdriver_manager) (2.28.1)\n",
      "Collecting python-dotenv\n",
      "  Downloading python_dotenv-0.21.0-py3-none-any.whl (18 kB)\n",
      "Requirement already satisfied: certifi>=2017.4.17 in c:\\users\\hoang\\anaconda3\\lib\\site-packages (from requests->webdriver_manager) (2022.9.14)\n",
      "Requirement already satisfied: idna<4,>=2.5 in c:\\users\\hoang\\anaconda3\\lib\\site-packages (from requests->webdriver_manager) (3.3)\n",
      "Requirement already satisfied: urllib3<1.27,>=1.21.1 in c:\\users\\hoang\\anaconda3\\lib\\site-packages (from requests->webdriver_manager) (1.26.11)\n",
      "Requirement already satisfied: charset-normalizer<3,>=2 in c:\\users\\hoang\\anaconda3\\lib\\site-packages (from requests->webdriver_manager) (2.0.4)\n",
      "Requirement already satisfied: colorama in c:\\users\\hoang\\anaconda3\\lib\\site-packages (from tqdm->webdriver_manager) (0.4.5)\n",
      "Installing collected packages: python-dotenv, webdriver_manager\n",
      "Successfully installed python-dotenv-0.21.0 webdriver_manager-3.8.4\n"
     ]
    }
   ],
   "source": [
    "!pip install webdriver_manager"
   ]
  },
  {
   "cell_type": "code",
   "execution_count": 3,
   "id": "19afa9fd",
   "metadata": {},
   "outputs": [
    {
     "name": "stdout",
     "output_type": "stream",
     "text": [
      "success\n"
     ]
    }
   ],
   "source": [
    "from selenium import webdriver \n",
    "print(\"success\")"
   ]
  },
  {
   "cell_type": "code",
   "execution_count": 7,
   "id": "289d5526",
   "metadata": {},
   "outputs": [
    {
     "name": "stderr",
     "output_type": "stream",
     "text": [
      "[WDM] - Downloading: 100%|████████████████████| 6.46M/6.46M [00:01<00:00, 4.39MB/s]\n"
     ]
    }
   ],
   "source": [
    "from selenium import webdriver\n",
    "from selenium.webdriver.chrome.service import Service\n",
    "from webdriver_manager.chrome import ChromeDriverManager\n",
    "\n",
    "driver = webdriver.Chrome(service=Service(ChromeDriverManager().install()))\n",
    "driver.get(\"https://www.google.com\")"
   ]
  },
  {
   "cell_type": "code",
   "execution_count": null,
   "id": "d9ec66c8",
   "metadata": {},
   "outputs": [],
   "source": []
  }
 ],
 "metadata": {
  "kernelspec": {
   "display_name": "Python 3 (ipykernel)",
   "language": "python",
   "name": "python3"
  },
  "language_info": {
   "codemirror_mode": {
    "name": "ipython",
    "version": 3
   },
   "file_extension": ".py",
   "mimetype": "text/x-python",
   "name": "python",
   "nbconvert_exporter": "python",
   "pygments_lexer": "ipython3",
   "version": "3.8.10"
  }
 },
 "nbformat": 4,
 "nbformat_minor": 5
}
