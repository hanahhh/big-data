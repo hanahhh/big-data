{
 "cells": [
  {
   "cell_type": "code",
   "execution_count": null,
   "id": "22ede206",
   "metadata": {},
   "outputs": [],
   "source": [
    "from setuptools import setup, find_packages\n",
    "\n",
    "try:\n",
    "    from pypandoc import convert_file\n",
    "    read_md = lambda f: convert_file(f, 'rst')\n",
    "except ImportError:\n",
    "    print(\"warning: pypandoc module not found, could not convert Markdown to RST\")\n",
    "    read_md = lambda f: open(f, 'r').read()\n",
    "\n",
    "INSTALL_REQUIRES = (\n",
    "    ['pandas>=0.19.2', 'numpy>=1.20.2', 'requests>=2.3.0', 'wrapt>=1.10.0', 'lxml>=4.3.0', 'pypandoc>=1.4', 'plotly>=4.2.1', 'bs4>=0.0.1']\n",
    ")\n",
    "\n",
    "DESCRIPTION = 'Viet Nam stock market'\n",
    "\n",
    "setup(\n",
    "      description=DESCRIPTION,\n",
    "      packages=find_packages(exclude = ['contrib', 'docs', 'tests*']),\n",
    "      classifiers=[\n",
    "        'Development Status :: 0 - Alpha',\n",
    "        'Environment :: Console',\n",
    "        'Intended Audience :: Trader/Investor/Science/Research',\n",
    "        'Operating System :: OS Independent',\n",
    "        'Programming Language :: Cython',\n",
    "        'Programming Language :: Python',\n",
    "        'Programming Language :: Python :: 2',\n",
    "        'Programming Language :: Python :: 2.7',\n",
    "        'Programming Language :: Python :: 3',\n",
    "        'Programming Language :: Python :: 3.5',\n",
    "        'Programming Language :: Python :: 3.6',\n",
    "        'Topic :: Financial/Stock Market',\n",
    "      ],\n",
    "      keywords = 'data',\n",
    "      install_requires=INSTALL_REQUIRES,\n",
    "      zip_safe=False,\n",
    "     )"
   ]
  }
 ],
 "metadata": {
  "kernelspec": {
   "display_name": "Python 3 (ipykernel)",
   "language": "python",
   "name": "python3"
  },
  "language_info": {
   "codemirror_mode": {
    "name": "ipython",
    "version": 3
   },
   "file_extension": ".py",
   "mimetype": "text/x-python",
   "name": "python",
   "nbconvert_exporter": "python",
   "pygments_lexer": "ipython3",
   "version": "3.8.10"
  }
 },
 "nbformat": 4,
 "nbformat_minor": 5
}
